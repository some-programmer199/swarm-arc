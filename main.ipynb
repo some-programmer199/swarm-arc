{
 "cells": [
  {
   "cell_type": "code",
   "execution_count": null,
   "id": "2b04afc5",
   "metadata": {},
   "outputs": [],
   "source": [
    "import model\n",
    "_out = model.full_run(num_genomes=16, batch=4, genome_dim=128,device=\"cpu\")\n"
   ]
  }
 ],
 "metadata": {
  "language_info": {
   "name": "python"
  }
 },
 "nbformat": 4,
 "nbformat_minor": 5
}
